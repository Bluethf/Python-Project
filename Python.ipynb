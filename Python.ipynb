{
 "cells": [
  {
   "cell_type": "code",
   "execution_count": 2,
   "metadata": {},
   "outputs": [],
   "source": [
    "with open(\"/cxldata/datasets/project/mbox-short.txt\", 'r') as f:\n",
    "    f.read()"
   ]
  },
  {
   "cell_type": "code",
   "execution_count": 3,
   "metadata": {},
   "outputs": [],
   "source": [
    "def number_of_lines():\n",
    "    lines = 0\n",
    "    with open(\"/cxldata/datasets/project/mbox-short.txt\", 'r') as f:\n",
    "        for line in f:\n",
    "            lines+=1\n",
    "    return lines"
   ]
  },
  {
   "cell_type": "code",
   "execution_count": 4,
   "metadata": {},
   "outputs": [
    {
     "data": {
      "text/plain": [
       "1910"
      ]
     },
     "execution_count": 4,
     "metadata": {},
     "output_type": "execute_result"
    }
   ],
   "source": [
    "number_of_lines()"
   ]
  },
  {
   "cell_type": "code",
   "execution_count": 5,
   "metadata": {},
   "outputs": [],
   "source": [
    "def count_number_of_lines():\n",
    "    fhand = open('/cxldata/datasets/project/mbox-short.txt')\n",
    "    count = 0\n",
    "    for line in fhand:\n",
    "        line = line.strip() # Remove new line characters from right\n",
    "        if line.startswith('Subject:'):\n",
    "            count+=1\n",
    "    return count"
   ]
  },
  {
   "cell_type": "code",
   "execution_count": 6,
   "metadata": {},
   "outputs": [
    {
     "data": {
      "text/plain": [
       "27"
      ]
     },
     "execution_count": 6,
     "metadata": {},
     "output_type": "execute_result"
    }
   ],
   "source": [
    "count_number_of_lines()"
   ]
  },
  {
   "cell_type": "code",
   "execution_count": 7,
   "metadata": {},
   "outputs": [],
   "source": [
    "def average_spam_confidence():\n",
    "    fhand = open('/cxldata/datasets/project/mbox-short.txt')\n",
    "    count = 0\n",
    "    sum = 0.00\n",
    "    for line in fhand:\n",
    "        line=line.strip()\n",
    "        if line.startswith('X-DSPAM-Confidence:'):\n",
    "            value=line.split(':')\n",
    "            sum = sum+float(value[1])\n",
    "            count+=1\n",
    "    average = sum/count\n",
    "    return average"
   ]
  },
  {
   "cell_type": "code",
   "execution_count": 8,
   "metadata": {},
   "outputs": [
    {
     "data": {
      "text/plain": [
       "0.7507185185185187"
      ]
     },
     "execution_count": 8,
     "metadata": {},
     "output_type": "execute_result"
    }
   ],
   "source": [
    "average_spam_confidence()"
   ]
  },
  {
   "cell_type": "code",
   "execution_count": 66,
   "metadata": {},
   "outputs": [],
   "source": [
    "def find_email_sent_days():\n",
    "    fhand = open('/cxldata/datasets/project/mbox-short.txt')\n",
    "    days = {}\n",
    "    for line in fhand:\n",
    "        line=line.rstrip()\n",
    "        if line.startswith('From '):\n",
    "            value=line.split(' ')\n",
    "            day=value[2]\n",
    "            days[day]=days.get(day,0)+1\n",
    "    return days"
   ]
  },
  {
   "cell_type": "code",
   "execution_count": 67,
   "metadata": {},
   "outputs": [
    {
     "data": {
      "text/plain": [
       "{'Sat': 1, 'Fri': 20, 'Thu': 6}"
      ]
     },
     "execution_count": 67,
     "metadata": {},
     "output_type": "execute_result"
    }
   ],
   "source": [
    "find_email_sent_days()"
   ]
  },
  {
   "cell_type": "code",
   "execution_count": 81,
   "metadata": {},
   "outputs": [],
   "source": [
    "def count_message_from_email():\n",
    "    fhand = open('/cxldata/datasets/project/mbox-short.txt')\n",
    "    mails = {}\n",
    "    for line in fhand:\n",
    "        line=line.rstrip()\n",
    "        if line.startswith('From'):\n",
    "            value=line.split(' ')\n",
    "            mail=value[1]\n",
    "            mails[mail]=mails.get(mail,0)+1\n",
    "    return mails"
   ]
  },
  {
   "cell_type": "code",
   "execution_count": 82,
   "metadata": {},
   "outputs": [
    {
     "data": {
      "text/plain": [
       "{'stephen.marquard@uct.ac.za': 4,\n",
       " 'louis@media.berkeley.edu': 6,\n",
       " 'zqian@umich.edu': 8,\n",
       " 'rjlowe@iupui.edu': 4,\n",
       " 'cwen@iupui.edu': 10,\n",
       " 'gsilver@umich.edu': 6,\n",
       " 'wagnermr@iupui.edu': 2,\n",
       " 'antranig@caret.cam.ac.uk': 2,\n",
       " 'gopal.ramasammycook@gmail.com': 2,\n",
       " 'david.horwitz@uct.ac.za': 8,\n",
       " 'ray@media.berkeley.edu': 2}"
      ]
     },
     "execution_count": 82,
     "metadata": {},
     "output_type": "execute_result"
    }
   ],
   "source": [
    "count_message_from_email()"
   ]
  },
  {
   "cell_type": "code",
   "execution_count": 102,
   "metadata": {},
   "outputs": [],
   "source": [
    "def count_message_from_domain():\n",
    "    fhand = open('/cxldata/datasets/project/mbox-short.txt')\n",
    "    mails = {}\n",
    "    for line in fhand:\n",
    "        line=line.rstrip()\n",
    "        if line.startswith('From'):\n",
    "            value=line.split(' ')\n",
    "            mail=value[1]\n",
    "            #print(mail)\n",
    "            domain = mail.split('@')\n",
    "            mails[domain[1]]=mails.get(domain[1],0)+1\n",
    "    return mails"
   ]
  },
  {
   "cell_type": "code",
   "execution_count": 103,
   "metadata": {},
   "outputs": [
    {
     "data": {
      "text/plain": [
       "{'uct.ac.za': 12,\n",
       " 'media.berkeley.edu': 8,\n",
       " 'umich.edu': 14,\n",
       " 'iupui.edu': 16,\n",
       " 'caret.cam.ac.uk': 2,\n",
       " 'gmail.com': 2}"
      ]
     },
     "execution_count": 103,
     "metadata": {},
     "output_type": "execute_result"
    }
   ],
   "source": [
    "count_message_from_domain()"
   ]
  },
  {
   "cell_type": "code",
   "execution_count": null,
   "metadata": {},
   "outputs": [],
   "source": []
  },
  {
   "cell_type": "code",
   "execution_count": null,
   "metadata": {},
   "outputs": [],
   "source": []
  },
  {
   "cell_type": "code",
   "execution_count": null,
   "metadata": {},
   "outputs": [],
   "source": []
  },
  {
   "cell_type": "code",
   "execution_count": null,
   "metadata": {},
   "outputs": [],
   "source": []
  },
  {
   "cell_type": "code",
   "execution_count": null,
   "metadata": {},
   "outputs": [],
   "source": []
  },
  {
   "cell_type": "code",
   "execution_count": null,
   "metadata": {},
   "outputs": [],
   "source": []
  },
  {
   "cell_type": "code",
   "execution_count": null,
   "metadata": {},
   "outputs": [],
   "source": []
  },
  {
   "cell_type": "code",
   "execution_count": null,
   "metadata": {},
   "outputs": [],
   "source": []
  },
  {
   "cell_type": "code",
   "execution_count": null,
   "metadata": {},
   "outputs": [],
   "source": []
  },
  {
   "cell_type": "code",
   "execution_count": null,
   "metadata": {},
   "outputs": [],
   "source": []
  }
 ],
 "metadata": {
  "kernelspec": {
   "display_name": "Python 3",
   "language": "python",
   "name": "python3"
  },
  "language_info": {
   "codemirror_mode": {
    "name": "ipython",
    "version": 3
   },
   "file_extension": ".py",
   "mimetype": "text/x-python",
   "name": "python",
   "nbconvert_exporter": "python",
   "pygments_lexer": "ipython3",
   "version": "3.6.8"
  },
  "toc": {
   "base_numbering": 1,
   "nav_menu": {},
   "number_sections": true,
   "sideBar": true,
   "skip_h1_title": false,
   "title_cell": "Table of Contents",
   "title_sidebar": "Contents",
   "toc_cell": false,
   "toc_position": {},
   "toc_section_display": true,
   "toc_window_display": false
  }
 },
 "nbformat": 4,
 "nbformat_minor": 2
}
